{
 "cells": [
  {
   "cell_type": "markdown",
   "metadata": {},
   "source": [
    "###   Лабараторная работа 6\n",
    "\n",
    "####  Вариант 3\n"
   ]
  },
  {
   "cell_type": "code",
   "execution_count": 1,
   "metadata": {},
   "outputs": [],
   "source": [
    "import pandas as pd\n",
    "import numpy as np\n",
    "\n",
    "from matplotlib.pyplot import (axes,axis,title,legend,figure,\n",
    "                               xlabel,ylabel,xticks,yticks,\n",
    "                               xscale,yscale,text,grid,\n",
    "                               plot,scatter,errorbar,hist,polar,\n",
    "                               contour,contourf,colorbar,clabel,\n",
    "                               imshow)\n",
    "import matplotlib.pyplot as plt\n",
    "import random\n",
    "import math\n",
    "\n",
    "\n",
    "%matplotlib inline\n"
   ]
  },
  {
   "cell_type": "code",
   "execution_count": 2,
   "metadata": {},
   "outputs": [],
   "source": [
    "class Player:\n",
    "    def __init__(self, id, x, y, hp):\n",
    "        self.id = id\n",
    "        self.x = x\n",
    "        self.y = y\n",
    "        self.hp =hp\n",
    "        \n",
    "    def X(self):\n",
    "        return self.x\n",
    "    \n",
    "    def Y(self):\n",
    "        return self.y\n",
    "    \n",
    "    def ID(self):\n",
    "        return self.id\n",
    "    \n",
    "    def HP(self):\n",
    "        return self.hp\n",
    "    \n",
    "    def Decrease_HP(self, value):\n",
    "        self.hp = min(self.hp - value, 0)"
   ]
  },
  {
   "cell_type": "code",
   "execution_count": null,
   "metadata": {},
   "outputs": [],
   "source": [
    "random.seed(a=2, version=2)"
   ]
  },
  {
   "cell_type": "code",
   "execution_count": 57,
   "metadata": {},
   "outputs": [],
   "source": [
    "size = 100\n",
    "count_players = 100\n",
    "A = [i - size for i in range(size*2 +1 )]\n",
    "X = random.choices(A, k=count_players)\n",
    "Y = random.choices(A, k=count_players)\n",
    "players = [ Player(i, X[i], Y[i], 100) for i in range(count_players)]\n",
    "    \n",
    "    \n",
    "\n",
    "angle = random.random() * math.pi * 2\n",
    "cos = math.cos(angle) * size\n",
    "sin = math.sin(angle) * size"
   ]
  },
  {
   "cell_type": "code",
   "execution_count": 48,
   "metadata": {},
   "outputs": [],
   "source": [
    "count_box = 3\n",
    "X_box = random.choices(A, k=count_box*2)\n",
    "Y_box = random.choices(A, k=count_box*2)\n",
    "boxes = [] # каждая коробка - 4 отрезка сторон\n",
    "boxes_for_drawing = []\n",
    "for i in range(count_box):\n",
    "    box = [[[X_box[2*i], Y_box[2*i]], [X_box[2*i], Y_box[2*i+1]]]]\n",
    "    box.append([[X_box[2*i], Y_box[2*i+1]], [X_box[2*i+1], Y_box[2*i+1]]])\n",
    "    box.append([[X_box[2*i+1], Y_box[2*i+1]], [X_box[2*i+1], Y_box[2*i]]])\n",
    "    box.append([[X_box[2*i+1], Y_box[2*i]], [X_box[2*i], Y_box[2*i]]])\n",
    "    \n",
    "    box_x = [X_box[2*i], X_box[2*i+1], X_box[2*i+1], X_box[2*i], X_box[2*i]]\n",
    "    box_y = [Y_box[2*i], Y_box[2*i], Y_box[2*i+1], Y_box[2*i+1], Y_box[2*i]]\n",
    "    \n",
    "    boxes.append(box)\n",
    "    boxes_for_drawing.append([box_x, box_y])\n",
    "    \n"
   ]
  },
  {
   "cell_type": "code",
   "execution_count": 62,
   "metadata": {},
   "outputs": [],
   "source": [
    "me = random.randrange(0, count_players)"
   ]
  },
  {
   "cell_type": "code",
   "execution_count": 63,
   "metadata": {},
   "outputs": [
    {
     "data": {
      "image/png": "[encoded data removed]",
      "text/plain": [
       "<Figure size 432x288 with 1 Axes>"
      ]
     },
     "metadata": {
      "needs_background": "light"
     },
     "output_type": "display_data"
    }
   ],
   "source": [
    "scatter(X,Y)\n",
    "plt.plot([players[me].X(), cos + players[me].X()], [players[me].Y(), sin + players[me].Y()])\n",
    "for box in boxes_for_drawing:\n",
    "    plt.plot(box[0], box[1])"
   ]
  },
  {
   "cell_type": "code",
   "execution_count": 64,
   "metadata": {},
   "outputs": [
    {
     "name": "stdout",
     "output_type": "stream",
     "text": [
      "cos:  0.363170664352414 sin:  0.9317226349905997\n",
      "prod:  -2.020331868923808e-05\n",
      "pos  [93, 25] ; dist:  12416\n",
      "prod:  -0.00843629619432995\n",
      "pos  [88, -9] ; dist:  6125\n",
      "prod:  -3.968509472396242e-05\n",
      "pos  [80, -11] ; dist:  5353\n"
     ]
    },
    {
     "data": {
      "text/plain": [
       "(5353, <__main__.Player at 0x2052390caf0>)"
      ]
     },
     "execution_count": 64,
     "metadata": {},
     "output_type": "execute_result"
    }
   ],
   "source": [
    "def hit(player, players, angle):\n",
    "    cos_angle = math.cos(angle)\n",
    "    sin_angle = math.sin(angle)\n",
    "    print('cos: ', cos_angle, 'sin: ', sin_angle)\n",
    "    dist_square = 1000000\n",
    "    hited_enemy = None\n",
    "    test = [-1,-1]\n",
    "    for enemy in players:\n",
    "        if (enemy.ID() == player.ID()):\n",
    "            continue\n",
    "        x = enemy.X() - player.X()\n",
    "        y = enemy.Y() - player.Y()\n",
    "        \n",
    "        dist_to = x*x+y*y\n",
    "        scal_prod = cos_angle*x + sin_angle*y\n",
    "        prod = abs(scal_prod) * scal_prod/ dist_to -1\n",
    "        \n",
    "        #print('prod: ', prod)\n",
    "        if prod > -0.01:\n",
    "            if dist_square > dist_to:\n",
    "                dist_square = dist_to\n",
    "                print('prod: ', prod)\n",
    "                print('pos ', [ enemy.X(), enemy.Y()], '; dist: ', dist_square)\n",
    "                hited_enemy = enemy\n",
    "    return dist_square, enemy\n",
    "\n",
    "hit(players[me], players, angle)"
   ]
  },
  {
   "cell_type": "code",
   "execution_count": 52,
   "metadata": {},
   "outputs": [],
   "source": [
    "def cross(vec1, vec2):\n",
    "    return vec1[0]*vec2[1] - vec1[1]*vec2[0]\n",
    "\n",
    "def is_cross(cut1, cut2):\n",
    "\n",
    "    vec1 = [cut1[1][0] - cut1[0][0], cut1[1][1] - cut1[0][1]] # AB\n",
    "    vec2 = [cut2[1][0] - cut2[0][0], cut2[1][1] - cut2[0][1]] # CD\n",
    "    \n",
    "    AC = [cut2[0][0] - cut1[0][0], cut2[0][1] - cut1[0][1]]\n",
    "    AD = [cut2[1][0] - cut1[0][0], cut2[1][1] - cut1[0][1]]\n",
    "    CA = [-AC[0], - AC[1]]\n",
    "    CB = [cut1[1][0] - cut2[0][0], cut1[1][1] - cut2[0][1]]\n",
    "\n",
    "    \n",
    "    prod1 = cross(vec2, CA)\n",
    "    prod2 = cross(vec2, CB)\n",
    "\n",
    "    if (cross(vec1, AC) * cross(vec1, AD) >= 0) or (prod1 * prod2 >= 0):\n",
    "        return None\n",
    "    \n",
    "    px = cut1[0][0] + vec1[0] * abs(prod1/(prod2-prod1))\n",
    "    py = cut1[0][1] + vec1[1] * abs(prod1/(prod2-prod1))\n",
    "    return px, py\n",
    "    \n",
    "#is_cross([[0,0],[4,4]], [[0,4],[1, 3]])"
   ]
  },
  {
   "cell_type": "code",
   "execution_count": 67,
   "metadata": {},
   "outputs": [
    {
     "name": "stdout",
     "output_type": "stream",
     "text": [
      "[[53, -79], [416.170664352414, 852.7226349905997]]\n",
      "[[[59, -32], [59, 76]], [[59, 76], [-54, 76]], [[-54, 76], [-54, -32]], [[-54, -32], [59, -32]]]\n",
      "[[53, -79], [416.170664352414, 852.7226349905997]]\n",
      "[[59, -32], [59, 76]]\n",
      "[[53, -79], [416.170664352414, 852.7226349905997]]\n",
      "[[59, 76], [-54, 76]]\n",
      "[[53, -79], [416.170664352414, 852.7226349905997]]\n",
      "[[-54, 76], [-54, -32]]\n",
      "[[53, -79], [416.170664352414, 852.7226349905997]]\n",
      "[[-54, -32], [59, -32]]\n"
     ]
    }
   ],
   "source": [
    "shot = [[players[me].X(),players[me].Y()], [cos*10+players[me].X(), sin*10+players[me].Y()]]\n",
    "\n",
    "def wall_shot(shot, box):\n",
    "    dist_hit = None # максимальное число\n",
    "    for cut in box:\n",
    "        print(shot)\n",
    "        print(cut)\n",
    "        point = is_cross(shot, cut)\n",
    "        if point is not None:\n",
    "            dist = (shot[0][0]-point[0])*2+(shot[0][1]-point[1])*2\n",
    "            if (dist_hit is None) or (dist_hit > dist):\n",
    "                dist_hit = dist\n",
    "                \n",
    "    return dist_hit\n",
    "    \n",
    "\n",
    "def nearest_wall_shot(shot, boxes):\n",
    "    dist_hit = None # максимальное число\n",
    "    for box in boxes:\n",
    "        dist = wall_shot(shot, box)\n",
    "        if (dist_hit is None) or (dist_hit > dist):\n",
    "            dist_hit = dist\n",
    "    return dist_hit\n",
    "\n",
    "print(shot)\n",
    "print(boxes[0])\n",
    "wall_shot(shot, boxes[0])"
   ]
  }
 ],
 "metadata": {
  "kernelspec": {
   "display_name": "Python 3",
   "language": "python",
   "name": "python3"
  },
  "language_info": {
   "codemirror_mode": {
    "name": "ipython",
    "version": 3
   },
   "file_extension": ".py",
   "mimetype": "text/x-python",
   "name": "python",
   "nbconvert_exporter": "python",
   "pygments_lexer": "ipython3",
   "version": "3.8.3"
  }
 },
 "nbformat": 4,
 "nbformat_minor": 2
}
